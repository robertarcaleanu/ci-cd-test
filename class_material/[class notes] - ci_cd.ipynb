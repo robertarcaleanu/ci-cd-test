{
 "cells": [
  {
   "cell_type": "markdown",
   "metadata": {},
   "source": [
    "### Configure repository\n",
    "\n",
    "1. Create a public repository called `ci-cd-exercise`.\n",
    "    - Check the box to add a `readme.md` file\n",
    "    - Add .gitignore template for Python\n",
    "2. Clone the repository to the local using the `git clone {REPOSITORY_URL}` command in the terminal\n",
    "3. With VSCode, open the new created (`ci-cd-exercise`) folder.\n",
    "4. Within the folder, copy the project structure provided in the virtual campus (`.zip`). Note that you might need to extract the content\n",
    "5. Create a virtual environment using the dependencies from the `requirements.txt` file. Depending on the Pyhon version you are using, you might need to change the dependencies versions. \n",
    "6. Share the repository with the professor (`rarcaleanu-at-eada`)."
   ]
  },
  {
   "cell_type": "markdown",
   "metadata": {},
   "source": [
    "### Create ML pipeline\n",
    "\n",
    "1. Within the `pipeline/src/` folder create a `metadata.py` file, and add the constants and variables you consider relevant (e.g. model params, variables category, paths, etc).\n",
    "2. Within the `pipeline/src/` folder create a `source.py` file, and create a function to load the CSV from the `datasets/Churn_Modelling_train_test.csv` file.\n",
    "3. Within the `pipeline/src/` folder create a `transform.py` file, and define the functions for the data transformation (feel free to use part of the code provided in the `exercise_support.py` file).\n",
    "4. Within the `pipeline/src/` folder create a `train.py` file, and define a function that trains a decision tree model and returns the model.\n",
    "5. Within the `pipeline/src/` folder create a `store.py` file, and define a function that saves the model in the `pipeline/models/` folder. The model path must be `class_model-{your_name}-{timestamp}.joblib`. The timestamp can be obtained as `datetime.now().strftime(\"%Y-%m-%d-%H-%M-%S\")`.\n",
    "6. Implement all the pipeline within the `main()` function in the `main.py` file.\n",
    "7. Once everything is completed, test that the pipeline works. Open a terminal and run `python main.py`. This should create a file in the `pipeline/models/` folder.\n"
   ]
  },
  {
   "cell_type": "markdown",
   "metadata": {},
   "source": [
    "### Testing the pipeline\n",
    "\n",
    "1. Within the `tests/` folder create a `test_transformer.py` file, and define some tests for the transformer.\n",
    "    - *Optional*: you can do as many tests as you want for the transformer.\n",
    "    - *Optional*: test other parts of the code (e.g. load, save, etc.).\n",
    "2. Save the files and run the tests. Open a terminal and run `pytest tests/`. (This will run all the tests withi the `tests/` folder, but you could specify the file to be tested by defining the complete file path).\n",
    "3. Check if tests are passed, if not review the issues."
   ]
  },
  {
   "cell_type": "markdown",
   "metadata": {},
   "source": [
    "### Push changes to the remote\n",
    "\n",
    "1. Save all the files\n",
    "2. Stage all the files using the following command on the terminal `git add .`\n",
    "3. Commit the changes by using the the following command on the terminal `git commit -m '{MESSAGE}'`\n",
    "4. Push the changes to the remote using `git push origin main`"
   ]
  },
  {
   "cell_type": "markdown",
   "metadata": {},
   "source": []
  },
  {
   "cell_type": "markdown",
   "metadata": {},
   "source": [
    "### Create the CI/CD\n",
    "\n",
    "1. On your local, create a new branch called `feature/implement-ci`. You can use the following command `git checkout -b {BRANCH_NAME}`\n",
    "2. Within the `.github/workflows/` folder create a file called `ci.yaml`\n",
    "3. Within the `ci.yaml` define the continuous integration workflow, which needs to have the parameters listed below:\n",
    "    - Workflow name: Continuous Integration - {YOUR NAME}\n",
    "    - Runs on: pull request to the main branch\n",
    "    - Job name: test-and-format\n",
    "    - Job runs on: ubuntu-latest\n",
    "    - Create token to allow commits to the repository (permissions)\n",
    "    - Configure credentials and environment variables\n",
    "    - Job steps:\n",
    "        - Checkout repository\n",
    "        - Set up Python (keep in mind what Python version is being used during the development)\n",
    "        - Install dependencies\n",
    "        - Run tests with pytest. At least 3 unit tests are required.\n",
    "        - Format code with black\n",
    "        - Commit and push changes. The commit message must be chore: format code with black\n",
    "4. Within the `.github/workflows/` folder create a file called `cd.yaml`\n",
    "5. Within the `cd.yaml` define the continuous deployment workflow, which needs to have the parameters listed below:\n",
    "    - Workflow name: Continuous Deployment - {YOUR NAME}\n",
    "    - Runs on: push to the main branch or every sunday at mid-night\n",
    "    - Job name: test-and-format\n",
    "    - Job runs on: ubuntu-latest\n",
    "    - Allow github action to write to the repository (permissions)\n",
    "    - Configure credentials and environment variables\n",
    "    - Job steps:\n",
    "        - Checkout repository\n",
    "        - Set up Python\n",
    "        - Install dependencies\n",
    "        - Train the model with the dataset available in the /cd_dataset folder\n",
    "        - Store the model in the /models folder. The model name must be in the format model_{current_date}, where current_date is in YYYY-MM-DD format.\n"
   ]
  },
  {
   "cell_type": "markdown",
   "metadata": {},
   "source": [
    "### Test the "
   ]
  }
 ],
 "metadata": {
  "language_info": {
   "name": "python"
  }
 },
 "nbformat": 4,
 "nbformat_minor": 2
}
